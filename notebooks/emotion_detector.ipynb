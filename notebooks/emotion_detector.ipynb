{
 "cells": [
  {
   "cell_type": "code",
   "execution_count": null,
   "metadata": {},
   "outputs": [],
   "source": [
    "import cv2\n",
    "from deepface import DeepFace\n",
    "import numpy as np\n",
    "\n",
    "# Start webcam\n",
    "cap = cv2.VideoCapture(0)\n",
    "\n",
    "print(\"Starting emotion detection. Press 'q' to quit.\")\n",
    "\n",
    "while True:\n",
    "    ret, frame = cap.read()\n",
    "    if not ret:\n",
    "        break\n",
    "\n",
    "    # Resize for performance\n",
    "    resized_frame = cv2.resize(frame, (640, 480))\n",
    "\n",
    "    try:\n",
    "        # Analyze emotions\n",
    "        result = DeepFace.analyze(resized_frame, actions=['emotion'], enforce_detection=False)\n",
    "\n",
    "        # Draw the results\n",
    "        dominant_emotion = result[0]['dominant_emotion']\n",
    "        cv2.putText(resized_frame, f'Emotion: {dominant_emotion}', (30, 50),\n",
    "                    cv2.FONT_HERSHEY_SIMPLEX, 1, (0, 255, 0), 2, cv2.LINE_AA)\n",
    "\n",
    "    except Exception as e:\n",
    "        print(\"Face not detected\")\n",
    "\n",
    "    # Display the video feed\n",
    "    cv2.imshow(\"Emotion Detector\", resized_frame)\n",
    "\n",
    "    # Exit on pressing 'q'\n",
    "    if cv2.waitKey(1) & 0xFF == ord('q'):\n",
    "        break\n",
    "\n",
    "# Cleanup\n",
    "cap.release()\n",
    "cv2.destroyAllWindows()"
   ]
  }
 ],
 "metadata": {
  "kernelspec": {
   "display_name": "face-emotion",
   "language": "python",
   "name": "python3"
  },
  "language_info": {
   "name": "python",
   "version": "3.9.21"
  }
 },
 "nbformat": 4,
 "nbformat_minor": 2
}
